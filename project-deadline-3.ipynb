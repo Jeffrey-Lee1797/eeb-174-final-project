{
 "cells": [
  {
   "cell_type": "code",
   "execution_count": 1,
   "metadata": {
    "collapsed": true
   },
   "outputs": [],
   "source": [
    "def makeCanidaeDict(filename):\n",
    "    Canidae_dict = {}\n",
    "    Canidae_species = open(filename, \"r\", encoding = \"ISO-8859-15\")\n",
    "    Canidae_records = species.readlines()[19:]\n",
    "    for line in Canidae_records:\n",
    "        record_elements = line.split(\",\")\n",
    "        species = record_elements[5]\n",
    "        age = record_elements[14] - record_elements[15]\n",
    "        Canidae_dict[species] = age\n",
    "    return Canidae_dict"
   ]
  },
  {
   "cell_type": "code",
   "execution_count": null,
   "metadata": {
    "collapsed": true
   },
   "outputs": [],
   "source": []
  }
 ],
 "metadata": {
  "anaconda-cloud": {},
  "kernelspec": {
   "display_name": "Python [conda root]",
   "language": "python",
   "name": "conda-root-py"
  },
  "language_info": {
   "codemirror_mode": {
    "name": "ipython",
    "version": 3
   },
   "file_extension": ".py",
   "mimetype": "text/x-python",
   "name": "python",
   "nbconvert_exporter": "python",
   "pygments_lexer": "ipython3",
   "version": "3.5.2"
  }
 },
 "nbformat": 4,
 "nbformat_minor": 2
}
