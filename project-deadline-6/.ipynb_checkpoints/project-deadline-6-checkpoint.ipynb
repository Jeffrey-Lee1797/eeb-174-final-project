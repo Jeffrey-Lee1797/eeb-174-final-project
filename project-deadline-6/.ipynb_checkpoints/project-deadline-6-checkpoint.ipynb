{
 "cells": [
  {
   "cell_type": "markdown",
   "metadata": {},
   "source": [
    "# Introduction\n",
    "\n",
    "The Canidae family consists of three subfamilies (Hesperocyoninae, Borophaginae, and Caninae) with a fossil record spanning the past 40 million years (Finarelli et al. 2007). There exists more than 120 fossil taxa consisting of these three subfamilies. The Hesperocyoninae and Borophaginae subfamilies are both entirely extinict; all extant species belong to the Caninae subfamily (Finarelli 2013). Canids are found on every continent except Antartica and can vary in size from a few pounds to over a hundred pounds (Keliman 1967). This diversity is due to a lack of specialization and a strong ability to adapt to various environments.\n",
    "\n",
    "    Finarelli, John A., and Anjali Goswami. “Potential Pitfalls of Reconstructing Deep Time Evolutionary History With Only Extant Data, A Case Study Using The Canidae (Mammalia, Carnivora).” Evolution, vol. 67, no. 12, 2013, pp. 3678–3685.\n",
    "\n",
    "    Finarelli, John A., et al. “Mechanisms behind Active Trends in Body Size Evolution of the Canidae (Carnivora: Mammalia).” The American Naturalist, vol. 170, no. 6, 2007, pp. 876–885.\n",
    "    \n",
    "    Kleiman, Devra G. “Some Aspects of Social Behavior in the Canidae.” American Zoologist, vol. 7, no. 2, 1967, pp. 365–372."
   ]
  },
  {
   "cell_type": "markdown",
   "metadata": {},
   "source": [
    "### Made a dictionary containing the name of the species and the age of the fossil"
   ]
  },
  {
   "cell_type": "code",
   "execution_count": 1,
   "metadata": {
    "collapsed": true
   },
   "outputs": [],
   "source": [
    "# Making a dictionary for Canidae\n",
    "def makeCanidaeDict(filename):\n",
    "    Canidae_dict = {} # Creates an empty dictionary \n",
    "    Canidae_species = open(filename, \"r\", encoding = \"ISO-8859-15\") # Will open the data file\n",
    "    Canidae_records = Canidae_species.readlines()[19:] # This will read the file after line 19 which excludes the heading\n",
    "    for line in Canidae_records:\n",
    "        line = line.replace('\\\"', '') # Removes the extra quotes\n",
    "#         #line = line.replace('\\'', '')\n",
    "        record_elements = line.split(\",\") # Denotes that each record element is separated by a file\n",
    "        species = record_elements[5] # Making species be the keys and taking the names from column 5\n",
    "        max_age = float(record_elements[14]) # Assigning max age to column 14\n",
    "        min_age = float(record_elements[15]) # Assigning min age to column 15\n",
    "        #age = max_age\n",
    "        age = max_age - min_age # Calculating the age of the fossil\n",
    "        Canidae_dict[species] = age # Assigning the age as the values in the dictionary\n",
    "        #print(record_elements)\n",
    "    return Canidae_dict"
   ]
  },
  {
   "cell_type": "markdown",
   "metadata": {},
   "source": [
    "### Made a dictionary containing the name of the species and the first occurance of the fossil"
   ]
  },
  {
   "cell_type": "code",
   "execution_count": 2,
   "metadata": {
    "collapsed": false
   },
   "outputs": [
    {
     "ename": "FileNotFoundError",
     "evalue": "[Errno 2] No such file or directory: 'Canidae_data.csv'",
     "output_type": "error",
     "traceback": [
      "\u001b[0;31m---------------------------------------------------------------------------\u001b[0m",
      "\u001b[0;31mFileNotFoundError\u001b[0m                         Traceback (most recent call last)",
      "\u001b[0;32m<ipython-input-2-97108f36aea7>\u001b[0m in \u001b[0;36m<module>\u001b[0;34m()\u001b[0m\n\u001b[1;32m     13\u001b[0m     \u001b[0;32mreturn\u001b[0m \u001b[0mfirstOccurance_dict\u001b[0m\u001b[0;34m\u001b[0m\u001b[0m\n\u001b[1;32m     14\u001b[0m \u001b[0;34m\u001b[0m\u001b[0m\n\u001b[0;32m---> 15\u001b[0;31m \u001b[0mfo_dict\u001b[0m \u001b[0;34m=\u001b[0m \u001b[0mFirstOccurance\u001b[0m\u001b[0;34m(\u001b[0m\u001b[0;34m\"Canidae_data.csv\"\u001b[0m\u001b[0;34m)\u001b[0m\u001b[0;34m\u001b[0m\u001b[0m\n\u001b[0m",
      "\u001b[0;32m<ipython-input-2-97108f36aea7>\u001b[0m in \u001b[0;36mFirstOccurance\u001b[0;34m(filename)\u001b[0m\n\u001b[1;32m      3\u001b[0m \u001b[0;32mdef\u001b[0m \u001b[0mFirstOccurance\u001b[0m\u001b[0;34m(\u001b[0m\u001b[0mfilename\u001b[0m\u001b[0;34m)\u001b[0m\u001b[0;34m:\u001b[0m\u001b[0;34m\u001b[0m\u001b[0m\n\u001b[1;32m      4\u001b[0m     \u001b[0mfirstOccurance_dict\u001b[0m \u001b[0;34m=\u001b[0m \u001b[0;34m{\u001b[0m\u001b[0;34m}\u001b[0m \u001b[0;31m# Create an empty dictionary\u001b[0m\u001b[0;34m\u001b[0m\u001b[0m\n\u001b[0;32m----> 5\u001b[0;31m     \u001b[0mspecies_data\u001b[0m \u001b[0;34m=\u001b[0m \u001b[0mopen\u001b[0m\u001b[0;34m(\u001b[0m\u001b[0mfilename\u001b[0m\u001b[0;34m,\u001b[0m \u001b[0;34m\"r\"\u001b[0m\u001b[0;34m,\u001b[0m \u001b[0mencoding\u001b[0m \u001b[0;34m=\u001b[0m \u001b[0;34m\"ISO-8859-15\"\u001b[0m\u001b[0;34m)\u001b[0m \u001b[0;31m# Open file\u001b[0m\u001b[0;34m\u001b[0m\u001b[0m\n\u001b[0m\u001b[1;32m      6\u001b[0m     \u001b[0mfirstOccurance_records\u001b[0m \u001b[0;34m=\u001b[0m \u001b[0mspecies_data\u001b[0m\u001b[0;34m.\u001b[0m\u001b[0mreadlines\u001b[0m\u001b[0;34m(\u001b[0m\u001b[0;34m)\u001b[0m\u001b[0;34m[\u001b[0m\u001b[0;36m19\u001b[0m\u001b[0;34m:\u001b[0m\u001b[0;34m]\u001b[0m \u001b[0;31m# Read the file\u001b[0m\u001b[0;34m\u001b[0m\u001b[0m\n\u001b[1;32m      7\u001b[0m     \u001b[0;32mfor\u001b[0m \u001b[0mline\u001b[0m \u001b[0;32min\u001b[0m \u001b[0mfirstOccurance_records\u001b[0m\u001b[0;34m:\u001b[0m\u001b[0;34m\u001b[0m\u001b[0m\n",
      "\u001b[0;31mFileNotFoundError\u001b[0m: [Errno 2] No such file or directory: 'Canidae_data.csv'"
     ]
    }
   ],
   "source": [
    "# Make a dictionary for the species and first occurance \n",
    "#sorted(mydict.items(), key=lambda x: x[1]) #sorts the dictionary numerically by values\n",
    "def FirstOccurance(filename):\n",
    "    firstOccurance_dict = {} # Create an empty dictionary \n",
    "    species_data = open(filename, \"r\", encoding = \"ISO-8859-15\") # Open file\n",
    "    firstOccurance_records = species_data.readlines()[19:] # Read the file\n",
    "    for line in firstOccurance_records:\n",
    "        line = line.replace('\\\"', '') \n",
    "        firstOccurance_elements = line.split(\",\")\n",
    "        species = firstOccurance_elements[5] # Populate the species with the data in column 6\n",
    "        start_year = float(firstOccurance_elements[14]) # Populate the start year with data from column 15\n",
    "        firstOccurance_dict[species] = start_year # Assign species as keys and start year as values\n",
    "    return firstOccurance_dict\n",
    "\n",
    "fo_dict = FirstOccurance(\"Canidae_data.csv\") "
   ]
  },
  {
   "cell_type": "code",
   "execution_count": null,
   "metadata": {
    "collapsed": true
   },
   "outputs": [],
   "source": []
  }
 ],
 "metadata": {
  "anaconda-cloud": {},
  "kernelspec": {
   "display_name": "Python [conda root]",
   "language": "python",
   "name": "conda-root-py"
  },
  "language_info": {
   "codemirror_mode": {
    "name": "ipython",
    "version": 3
   },
   "file_extension": ".py",
   "mimetype": "text/x-python",
   "name": "python",
   "nbconvert_exporter": "python",
   "pygments_lexer": "ipython3",
   "version": "3.5.2"
  }
 },
 "nbformat": 4,
 "nbformat_minor": 2
}
